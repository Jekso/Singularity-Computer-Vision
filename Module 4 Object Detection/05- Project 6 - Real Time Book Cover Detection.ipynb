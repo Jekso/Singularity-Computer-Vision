{
 "cells": [
  {
   "cell_type": "code",
   "execution_count": null,
   "metadata": {},
   "outputs": [],
   "source": [
    "import numpy as np\n",
    "import cv2\n",
    "from matplotlib import pyplot as plt\n",
    "\n",
    "sift = cv2.xfeatures2d.SIFT_create()\n",
    "\n",
    "img1 = cv2.imread('../Data/Images/book_covers/books_library/cover018.png')\n",
    "\n",
    "gray = cv2.cvtColor(img1, cv2.COLOR_BGR2GRAY)\n",
    "\n",
    "kp1, des1 = sift.detectAndCompute(gray,None)\n",
    "\n",
    "FLANN_INDEX_KDTREE = 0\n",
    "index_params = dict(algorithm = FLANN_INDEX_KDTREE, trees = 5)\n",
    "search_params = dict(checks=50) \n",
    "flann = cv2.FlannBasedMatcher(index_params,search_params)\n",
    "\n",
    "\n",
    "cap = cv2.VideoCapture(0)\n",
    "\n",
    "while True:\n",
    "\n",
    "    ret, frame = cap.read()\n",
    "    cv2.imshow('Original', frame)\n",
    "\n",
    "    img2 = cv2.cvtColor(frame, cv2.COLOR_BGR2GRAY)\n",
    "    kp2, des2 = sift.detectAndCompute(img2,None)\n",
    "    matches = flann.knnMatch(des1,des2,k=2)\n",
    "\n",
    "    good = []\n",
    "    for i,(match1,match2) in enumerate(matches):\n",
    "        if match1.distance < 0.5 * match2.distance:\n",
    "            good.append([match1])\n",
    "\n",
    "    flann_matches = cv2.drawMatchesKnn(img1,kp1,frame,kp2,good,frame,flags=2)\n",
    "    cv2.imshow('Matches', flann_matches)\n",
    "    \n",
    "    if cv2.waitKey(1) == 13: #13 is the Enter Key\n",
    "        break\n",
    "        \n",
    "cap.release()\n",
    "cv2.destroyAllWindows()  "
   ]
  },
  {
   "cell_type": "code",
   "execution_count": null,
   "metadata": {},
   "outputs": [],
   "source": []
  }
 ],
 "metadata": {
  "kernelspec": {
   "display_name": "Python 3",
   "language": "python",
   "name": "python3"
  },
  "language_info": {
   "codemirror_mode": {
    "name": "ipython",
    "version": 3
   },
   "file_extension": ".py",
   "mimetype": "text/x-python",
   "name": "python",
   "nbconvert_exporter": "python",
   "pygments_lexer": "ipython3",
   "version": "3.6.5"
  }
 },
 "nbformat": 4,
 "nbformat_minor": 2
}
