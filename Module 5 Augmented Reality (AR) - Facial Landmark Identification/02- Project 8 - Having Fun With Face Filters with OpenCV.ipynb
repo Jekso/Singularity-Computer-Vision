{
 "cells": [
  {
   "cell_type": "markdown",
   "metadata": {},
   "source": [
    "# Face Masks Filter"
   ]
  },
  {
   "cell_type": "code",
   "execution_count": null,
   "metadata": {},
   "outputs": [],
   "source": [
    "import cv2\n",
    "import numpy as np\n",
    "\n",
    "def add_filter(filter_mask, title, height_stretch_factor, height_translation_factor):\n",
    "    face_cascade = cv2.CascadeClassifier('../Data/Haarcascades/haarcascade_frontalface_default.xml')\n",
    "    h_mask, w_mask, _ = filter_mask.shape\n",
    "    cap = cv2.VideoCapture(0)\n",
    "    scaling_factor = 0.5\n",
    "    while True:\n",
    "        ret, frame = cap.read()\n",
    "        frame = cv2.resize(frame, None, fx=scaling_factor, fy=scaling_factor, interpolation=cv2.INTER_AREA)\n",
    "        gray = cv2.cvtColor(frame, cv2.COLOR_BGR2GRAY)\n",
    "        face_rects = face_cascade.detectMultiScale(gray, 1.3, 5)\n",
    "        for (x,y,w,h) in face_rects:\n",
    "            if h > 0 and w > 0:\n",
    "                h, w = int(height_stretch_factor * h), int(1.0*w)\n",
    "                y -= int(height_translation_factor * h)\n",
    "                frame_roi = frame[y:y+h, x:x+w]\n",
    "                face_mask_small = cv2.resize(filter_mask, (w, h), interpolation=cv2.INTER_AREA)\n",
    "                gray_mask = cv2.cvtColor(face_mask_small, cv2.COLOR_BGR2GRAY)\n",
    "                ret, mask = cv2.threshold(gray_mask, 240, 255, cv2.THRESH_BINARY_INV)\n",
    "                masked_face = cv2.bitwise_and(face_mask_small, face_mask_small, mask=mask)\n",
    "                mask_inv = cv2.bitwise_not(mask)\n",
    "                masked_frame = cv2.bitwise_and(frame_roi, frame_roi, mask=mask_inv)\n",
    "                cv2.imshow('Gray', gray_mask)\n",
    "                cv2.imshow('Thresh', mask)\n",
    "                cv2.imshow('Thresh_INV', mask_inv)\n",
    "                cv2.imshow('Masked Face', masked_face)\n",
    "                cv2.imshow('Masked Frame', masked_frame)\n",
    "                frame[y:y+h, x:x+w] = cv2.add(masked_face, masked_frame)\n",
    "        cv2.imshow(title, frame)\n",
    "        c = cv2.waitKey(1)\n",
    "        if c == 27:\n",
    "            break\n",
    "    cap.release()\n",
    "    cv2.destroyAllWindows()\n",
    "    \n",
    "\n",
    "filters = {'Bane'    : ('bane_mask', 'Bane', 1.2, 0.02),\n",
    "           'Vendetta': ('vendetta_mask', 'Vendetta', 1.3, 0.05),\n",
    "           'Skull'    : ('skull_mask', 'Skull', 1.3, 0.1)}\n",
    "\n",
    "mask_path, title, h_s_f, h_t_f = filters['Vendetta']\n",
    "add_filter(cv2.imread('../Data/Images/filter_sprites/' + mask_path +'.png'), title, h_s_f, h_t_f)"
   ]
  },
  {
   "cell_type": "markdown",
   "metadata": {
    "collapsed": true
   },
   "source": [
    "# Resources\n",
    "\n",
    "for more stablity use Dlib instead of OpenCV\n",
    "https://github.com/coffe2code/Face-Filter"
   ]
  },
  {
   "cell_type": "code",
   "execution_count": null,
   "metadata": {},
   "outputs": [],
   "source": []
  }
 ],
 "metadata": {
  "kernelspec": {
   "display_name": "Python 3",
   "language": "python",
   "name": "python3"
  },
  "language_info": {
   "codemirror_mode": {
    "name": "ipython",
    "version": 3
   },
   "file_extension": ".py",
   "mimetype": "text/x-python",
   "name": "python",
   "nbconvert_exporter": "python",
   "pygments_lexer": "ipython3",
   "version": "3.6.5"
  }
 },
 "nbformat": 4,
 "nbformat_minor": 2
}
