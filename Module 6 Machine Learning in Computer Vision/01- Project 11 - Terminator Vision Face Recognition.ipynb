{
 "cells": [
  {
   "cell_type": "markdown",
   "metadata": {},
   "source": [
    "# Collecting Data"
   ]
  },
  {
   "cell_type": "code",
   "execution_count": null,
   "metadata": {},
   "outputs": [],
   "source": [
    "import cv2\n",
    "import numpy as np\n",
    "\n",
    "face_classifier = cv2.CascadeClassifier('../Data/Haarcascades/haarcascade_frontalface_default.xml')\n",
    "\n",
    "def face_extractor(image):\n",
    "    gray = cv2.cvtColor(image, cv2.COLOR_BGR2GRAY)\n",
    "    faces = face_classifier.detectMultiScale(gray, 1.3, 1)\n",
    "    if faces is ():\n",
    "        return None\n",
    "    x, y, w, h = faces[0]\n",
    "    offset_factor = 50\n",
    "    return gray[x-offset_factor:x+w+offset_factor, y-offset_factor:y+h+offset_factor]\n",
    "\n",
    "def generateDataFor(username):\n",
    "    cap = cv2.VideoCapture(0)\n",
    "    samples_num = 3000\n",
    "    count = 0\n",
    "    while True:\n",
    "        ret, frame = cap.read()\n",
    "        face = face_extractor(frame)\n",
    "        if face is not None:\n",
    "            cv2.imshow('Original', frame)\n",
    "            cv2.imshow('Face', face)\n",
    "            count += 1\n",
    "            file_name = '../Data/Output/faces/' + username + '/' + str(count) + '.jpg'\n",
    "            cv2.imwrite(file_name, face)\n",
    "            if cv2.waitKey(1) == 27 or count == samples_num:\n",
    "                break\n",
    "    print(\"Done Collecting data\")\n",
    "    cap.release()\n",
    "    cv2.destroyAllWindows()\n",
    "    \n",
    "generateDataFor('desha')"
   ]
  },
  {
   "cell_type": "markdown",
   "metadata": {},
   "source": [
    "# Training Data"
   ]
  },
  {
   "cell_type": "code",
   "execution_count": null,
   "metadata": {},
   "outputs": [],
   "source": [
    "import cv2\n",
    "import os\n",
    "import numpy as np\n",
    "\n",
    "training_data_path = '../Data/Output/faces'\n",
    "training_labels = [f for f in os.listdir(training_data_path)] \n",
    "\n",
    "all_features = []\n",
    "all_labels = []\n",
    "\n",
    "for i,label in enumerate(training_labels):\n",
    "    for f in os.listdir(training_data_path + '/' + label):\n",
    "        all_features.append(cv2.imread(training_data_path + '/' + label + '/' + f, 0))\n",
    "        all_labels.append(i)\n",
    "\n",
    "recognizer = cv2.face.LBPHFaceRecognizer_create()\n",
    "\n",
    "recognizer.train(all_features, np.array(all_labels))\n",
    "\n",
    "recognizer.write('../Data/Output/faces_model.yml')\n",
    "\n",
    "print('Training Done')"
   ]
  },
  {
   "cell_type": "markdown",
   "metadata": {},
   "source": [
    "# Testing (Terminator Vision Face Recognition App)"
   ]
  },
  {
   "cell_type": "code",
   "execution_count": null,
   "metadata": {},
   "outputs": [],
   "source": [
    "import numpy as np\n",
    "import cv2\n",
    "import os\n",
    "\n",
    "def terminator_vision(img):\n",
    "    b,g,r = cv2.split(img)\n",
    "    img = cv2.merge((b*0,g*0,r))\n",
    "    return img\n",
    "\n",
    "recognizer = cv2.face.LBPHFaceRecognizer_create()\n",
    "recognizer.read('../Data/Output/faces_model.yml')\n",
    "\n",
    "faceCascade = cv2.CascadeClassifier(\"../Data/Haarcascades/haarcascade_frontalface_default.xml\")\n",
    "\n",
    "people = [f for f in os.listdir('../Data/Output/faces')] \n",
    "\n",
    "cap = cv2.VideoCapture(0)\n",
    "\n",
    "while True:\n",
    "    ret, frame = cap.read()\n",
    "    gray = cv2.cvtColor(frame, cv2.COLOR_BGR2GRAY)\n",
    "    faces = faceCascade.detectMultiScale(gray, 1.2,5)\n",
    "    \n",
    "    frame = terminator_vision(frame)\n",
    "    \n",
    "    for(x,y,w,h) in faces:\n",
    "        label, confidence = recognizer.predict(gray[y:y+h,x:x+w])\n",
    "        cv2.rectangle(frame, (x-20,y-20), (x+w+20,y+h+20), (0,255,0), 4)\n",
    "        cv2.rectangle(frame, (x-22,y-90), (x+w+22, y-22), (0,255,0), -1)\n",
    "        cv2.putText(frame, str(people[label]), (x,y-40), cv2.FONT_HERSHEY_SIMPLEX, 1, (255,255,255), 3)\n",
    "    cv2.imshow('Terminator Vision Face Recognition App', frame) \n",
    "    \n",
    "    if cv2.waitKey(10) & 0xFF == ord('q'):\n",
    "        break\n",
    "        \n",
    "cap.release()\n",
    "cv2.destroyAllWindows()"
   ]
  },
  {
   "cell_type": "code",
   "execution_count": null,
   "metadata": {},
   "outputs": [],
   "source": []
  }
 ],
 "metadata": {
  "kernelspec": {
   "display_name": "Python 3",
   "language": "python",
   "name": "python3"
  },
  "language_info": {
   "codemirror_mode": {
    "name": "ipython",
    "version": 3
   },
   "file_extension": ".py",
   "mimetype": "text/x-python",
   "name": "python",
   "nbconvert_exporter": "python",
   "pygments_lexer": "ipython3",
   "version": "3.6.5"
  }
 },
 "nbformat": 4,
 "nbformat_minor": 2
}
